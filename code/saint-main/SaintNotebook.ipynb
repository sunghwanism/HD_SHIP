{
 "cells": [
  {
   "cell_type": "code",
   "execution_count": null,
   "metadata": {},
   "outputs": [],
   "source": [
    "import os\n",
    "import sys\n",
    "\n",
    "import matplotlib.pyplot as plt\n",
    "import pandas as pd\n",
    "import numpy as np\n",
    "import random\n",
    "\n",
    "from utils import preprocessing, seed_everything"
   ]
  },
  {
   "cell_type": "code",
   "execution_count": null,
   "metadata": {},
   "outputs": [],
   "source": [
    "RANDOM_SEED = 42\n",
    "seed_everything(seed=RANDOM_SEED)"
   ]
  },
  {
   "cell_type": "code",
   "execution_count": null,
   "metadata": {},
   "outputs": [],
   "source": [
    "BASE = \"../../\"\n",
    "DATAPATH = os.path.join(BASE, \"data\")\n",
    "RESULTPATH = os.path.join(DATAPATH,\"Submission\")\n",
    "origin_train = pd.read_csv(DATAPATH+'/train.csv').drop(columns=['SAMPLE_ID'])\n",
    "origin_test = pd.read_csv(DATAPATH+'/test.csv').drop(columns=['SAMPLE_ID'])\n",
    "\n",
    "LABEL = \"CI_HOUR\""
   ]
  },
  {
   "cell_type": "code",
   "execution_count": null,
   "metadata": {},
   "outputs": [],
   "source": [
    "train, test, category_lst = preprocessing(origin_train, origin_test)\n",
    "\n",
    "train_x, train_y = train.drop(LABEL, axis=1), train.CI_HOUR"
   ]
  },
  {
   "cell_type": "code",
   "execution_count": null,
   "metadata": {},
   "outputs": [],
   "source": [
    "categorical_indicator = []\n",
    "\n",
    "for col in train_x.columns:\n",
    "    if col in category_lst:\n",
    "        categorical_indicator.append(True)\n",
    "    else:\n",
    "        categorical_indicator.append(False)"
   ]
  },
  {
   "cell_type": "code",
   "execution_count": null,
   "metadata": {},
   "outputs": [],
   "source": [
    "categorical_indicator"
   ]
  },
  {
   "cell_type": "code",
   "execution_count": null,
   "metadata": {},
   "outputs": [],
   "source": []
  }
 ],
 "metadata": {
  "kernelspec": {
   "display_name": "hd_ship",
   "language": "python",
   "name": "python3"
  },
  "language_info": {
   "codemirror_mode": {
    "name": "ipython",
    "version": 3
   },
   "file_extension": ".py",
   "mimetype": "text/x-python",
   "name": "python",
   "nbconvert_exporter": "python",
   "pygments_lexer": "ipython3",
   "version": "3.9.18"
  }
 },
 "nbformat": 4,
 "nbformat_minor": 2
}
