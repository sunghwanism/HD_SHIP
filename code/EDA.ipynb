{
 "cells": [
  {
   "cell_type": "code",
   "execution_count": null,
   "metadata": {},
   "outputs": [],
   "source": [
    "import os\n",
    "\n",
    "import matplotlib.pyplot as plt\n",
    "import pandas as pd\n",
    "import numpy as np\n",
    "import lightgbm as lgb\n",
    "import bisect\n",
    "from tqdm import tqdm\n",
    "from sklearn.metrics import mean_absolute_error\n",
    "from sklearn.preprocessing import LabelEncoder\n",
    "from sklearn.model_selection import KFold\n",
    "\n",
    "\n",
    "from utils import preprocessing\n",
    "from eda_utils import *"
   ]
  },
  {
   "cell_type": "code",
   "execution_count": null,
   "metadata": {},
   "outputs": [],
   "source": [
    "BASE = \"../\"\n",
    "DATAPATH = os.path.join(BASE, \"data\")\n",
    "RESULTPATH = os.path.join(DATAPATH,\"Submission\")\n",
    "origin_train = pd.read_csv(DATAPATH+'/train.csv').drop(columns=['SAMPLE_ID'])\n",
    "origin_test = pd.read_csv(DATAPATH+'/test.csv').drop(columns=['SAMPLE_ID'])\n",
    "\n",
    "LABEL = \"CI_HOUR\""
   ]
  },
  {
   "cell_type": "code",
   "execution_count": null,
   "metadata": {},
   "outputs": [],
   "source": [
    "train, test = preprocessing(origin_train, origin_test)"
   ]
  },
  {
   "cell_type": "code",
   "execution_count": null,
   "metadata": {},
   "outputs": [],
   "source": [
    "corr_colormap(train)"
   ]
  },
  {
   "cell_type": "code",
   "execution_count": null,
   "metadata": {},
   "outputs": [],
   "source": [
    "x_correlation(train, LABEL)"
   ]
  },
  {
   "cell_type": "code",
   "execution_count": null,
   "metadata": {},
   "outputs": [],
   "source": [
    "# for want_col in [\"ARI_CO\", \"ARI_PO\", \"SHIP_TYPE_CATEGORY\", \"BUILT\", \"DEADWEIGHT\", \"DEPTH\", ]:\n",
    "for want_col in train.columns:\n",
    "    print(want_col)\n",
    "    if want_col not in [\"DIST\", \"ATA\", \"ID\", \"SHIPMANAGER\", \"BN\",\"CI_HOUR\"]:\n",
    "        avgOftime(df=train, col=want_col, LABEL=\"CI_HOUR\", viz=True)"
   ]
  },
  {
   "cell_type": "code",
   "execution_count": null,
   "metadata": {},
   "outputs": [],
   "source": []
  }
 ],
 "metadata": {
  "kernelspec": {
   "display_name": "hd_ship",
   "language": "python",
   "name": "python3"
  },
  "language_info": {
   "codemirror_mode": {
    "name": "ipython",
    "version": 3
   },
   "file_extension": ".py",
   "mimetype": "text/x-python",
   "name": "python",
   "nbconvert_exporter": "python",
   "pygments_lexer": "ipython3",
   "version": "3.9.18"
  }
 },
 "nbformat": 4,
 "nbformat_minor": 2
}
