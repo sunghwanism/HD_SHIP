{
 "cells": [
  {
   "cell_type": "code",
   "execution_count": null,
   "metadata": {},
   "outputs": [],
   "source": [
    "import os\n",
    "\n",
    "import matplotlib.pyplot as plt\n",
    "import pandas as pd\n",
    "import numpy as np\n",
    "\n",
    "from tqdm import tqdm\n",
    "\n",
    "from utils import preprocessing\n",
    "\n",
    "from eda_utils import *"
   ]
  },
  {
   "cell_type": "code",
   "execution_count": null,
   "metadata": {},
   "outputs": [],
   "source": [
    "BASE = \"../\"\n",
    "DATAPATH = os.path.join(BASE, \"data\")\n",
    "RESULTPATH = os.path.join(DATAPATH,\"Submission\")\n",
    "origin_train = pd.read_csv(DATAPATH+'/train.csv').drop(columns=['SAMPLE_ID'])\n",
    "origin_test = pd.read_csv(DATAPATH+'/test.csv').drop(columns=['SAMPLE_ID'])\n",
    "\n",
    "LABEL = \"CI_HOUR\"\n",
    "categorical_features = ['ARI_CO', 'ARI_PO', 'SHIP_TYPE_CATEGORY', 'ID', 'SHIPMANAGER', 'FLAG']"
   ]
  },
  {
   "cell_type": "code",
   "execution_count": null,
   "metadata": {},
   "outputs": [],
   "source": [
    "info_per_col(origin_train, categorical_features)"
   ]
  },
  {
   "cell_type": "code",
   "execution_count": null,
   "metadata": {},
   "outputs": [],
   "source": [
    "train, test, categorical_features = preprocessing(origin_train, origin_test)\n",
    "numeric_features = [col for col in train.columns if col not in categorical_features and col != LABEL]\n",
    "numeric_index = [i for i, col in enumerate(train.columns) if col not in categorical_features and col != LABEL]\n",
    "\n",
    "print(\"Total Train Set\", len(train)) # dropNa: 213075 // NOT dropNa: 367441\n",
    "print(\"Total Teest Set\", len(test))"
   ]
  },
  {
   "cell_type": "code",
   "execution_count": null,
   "metadata": {},
   "outputs": [],
   "source": [
    "info_per_col(train, categoric_features=categorical_features)"
   ]
  },
  {
   "cell_type": "markdown",
   "metadata": {},
   "source": [
    "### Check dulicated ID b/w train set and test set\n",
    "- Result 1 : All of ID in test set is included in train set\n",
    "- Result 2 : ID는 동일하나,  도착국가와 도착항구가 다른 경우, "
   ]
  },
  {
   "cell_type": "code",
   "execution_count": null,
   "metadata": {},
   "outputs": [],
   "source": [
    "test_ids = list(test[\"ID\"].unique())\n",
    "test_ids.sort()\n",
    "\n",
    "train_ids = list(train[\"ID\"].unique())\n",
    "train_ids.sort()\n",
    "\n",
    "\n",
    "duplicated_lst = []\n",
    "\n",
    "for train_id in train_ids:\n",
    "    if train_id in test_ids:\n",
    "        duplicated_lst.append(train_id)\n",
    "\n",
    "print(\"Ratio of Same ship b/w train and test set\", round(len(duplicated_lst)/len(test_ids), 3)*100, \"%\")"
   ]
  },
  {
   "cell_type": "code",
   "execution_count": null,
   "metadata": {},
   "outputs": [],
   "source": [
    "np.array(duplicated_lst)[:10]"
   ]
  },
  {
   "cell_type": "code",
   "execution_count": null,
   "metadata": {},
   "outputs": [],
   "source": [
    "train.groupby([\"ARI_CO\", \"ARI_PO\", \"year\",]).mean().to_csv(\"../preproc/BN_analyiss.csv\")"
   ]
  },
  {
   "cell_type": "code",
   "execution_count": null,
   "metadata": {},
   "outputs": [],
   "source": [
    "train[train[\"ID\"]==9].sort_values([\"year\", \"month\", \"day\", \"hour\", \"minute\"]).head(10)"
   ]
  },
  {
   "cell_type": "code",
   "execution_count": null,
   "metadata": {},
   "outputs": [],
   "source": [
    "train[train[\"ARI_CO\"]==4][[\"ARI_PO\", \"DIST\", \"FLAG\"]][train[train[\"ARI_CO\"]==4][[\"ARI_PO\", \"DIST\"]][\"ARI_PO\"]==31]"
   ]
  },
  {
   "cell_type": "code",
   "execution_count": null,
   "metadata": {},
   "outputs": [],
   "source": [
    "test[test[\"ID\"]==9].sort_values([\"year\", \"month\", \"day\", \"hour\", \"minute\"]).head(10)"
   ]
  },
  {
   "cell_type": "code",
   "execution_count": null,
   "metadata": {},
   "outputs": [],
   "source": [
    "# DIST=0 일 때, 어떠한 feature로 인해 변하는가\n",
    "# train[train[\"DIST\"]==0].groupby(LABEL).mean()[numeric_features]"
   ]
  },
  {
   "cell_type": "code",
   "execution_count": null,
   "metadata": {},
   "outputs": [],
   "source": [
    "# ids = train[\"ID\"].unique()\n",
    "# ids.sort()\n",
    "\n",
    "# total_show = 5\n",
    "\n",
    "# for i, id in enumerate(ids):\n",
    "#     caseOfone = train[train[\"ID\"]==id].sort_values([\"year\", \"month\", \"day\", \"hour\", \"minute\"])\n",
    "    \n",
    "#     if len(caseOfone) != 1:\n",
    "#         print(\"SHIP ID\", id, \"# of data\",len(caseOfone))\n",
    "#         x_correlation(caseOfone, LABEL)\n",
    "#         if i == total_show-1:\n",
    "#             break\n",
    "#     else:\n",
    "#         total_show+=1"
   ]
  },
  {
   "cell_type": "code",
   "execution_count": null,
   "metadata": {},
   "outputs": [],
   "source": [
    "# # for want_col in [\"ARI_CO\", \"ARI_PO\", \"SHIP_TYPE_CATEGORY\", \"BUILT\", \"DEADWEIGHT\", \"DEPTH\", ]:\n",
    "# for want_col in train.columns:\n",
    "#     print(want_col)\n",
    "#     if want_col not in [\"DIST\", \"ATA\", \"ID\", \"SHIPMANAGER\", \"BN\",\"CI_HOUR\"]:\n",
    "#         avgOftime(df=train, col=want_col, LABEL=\"CI_HOUR\", viz=True)"
   ]
  },
  {
   "cell_type": "code",
   "execution_count": null,
   "metadata": {},
   "outputs": [],
   "source": []
  }
 ],
 "metadata": {
  "kernelspec": {
   "display_name": "hd_ship",
   "language": "python",
   "name": "python3"
  },
  "language_info": {
   "codemirror_mode": {
    "name": "ipython",
    "version": 3
   },
   "file_extension": ".py",
   "mimetype": "text/x-python",
   "name": "python",
   "nbconvert_exporter": "python",
   "pygments_lexer": "ipython3",
   "version": "3.9.18"
  }
 },
 "nbformat": 4,
 "nbformat_minor": 2
}
