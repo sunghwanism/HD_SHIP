{
 "cells": [
  {
   "cell_type": "code",
   "execution_count": 1,
   "metadata": {},
   "outputs": [],
   "source": [
    "import os\n",
    "\n",
    "import matplotlib.pyplot as plt\n",
    "import pandas as pd\n",
    "import numpy as np\n",
    "\n",
    "from tqdm import tqdm\n",
    "\n",
    "from utils import preprocessing\n",
    "from eda_utils import *"
   ]
  },
  {
   "cell_type": "code",
   "execution_count": 2,
   "metadata": {},
   "outputs": [],
   "source": [
    "BASE = \"../\"\n",
    "DATAPATH = os.path.join(BASE, \"data\")\n",
    "RESULTPATH = os.path.join(DATAPATH,\"Submission\")\n",
    "origin_train = pd.read_csv(DATAPATH+'/train.csv').drop(columns=['SAMPLE_ID'])\n",
    "origin_test = pd.read_csv(DATAPATH+'/test.csv').drop(columns=['SAMPLE_ID'])\n",
    "\n",
    "LABEL = \"CI_HOUR\""
   ]
  },
  {
   "cell_type": "code",
   "execution_count": 3,
   "metadata": {},
   "outputs": [
    {
     "name": "stderr",
     "output_type": "stream",
     "text": [
      "Encoding features: 100%|██████████| 6/6 [00:00<00:00,  7.04it/s]\n"
     ]
    }
   ],
   "source": [
    "train, test, categorical_features = preprocessing(origin_train, origin_test)\n",
    "numeric_features = [col for col in train.columns if col not in categorical_features and col != LABEL]\n",
    "numeric_index = [i for i, col in enumerate(train.columns) if col not in categorical_features and col != LABEL]"
   ]
  },
  {
   "cell_type": "code",
   "execution_count": 4,
   "metadata": {},
   "outputs": [],
   "source": [
    "numeric_features = [i for i, col in enumerate(train.columns) if col not in categorical_features and col != LABEL]"
   ]
  },
  {
   "cell_type": "markdown",
   "metadata": {},
   "source": [
    "### Check dulicated ID b/w train set and test set\n",
    "- Result 1 : All of ID in test set is included in train set\n",
    "- Result 2 : ID는 동일하나,  도착국가와 도착항구가 다른 경우, "
   ]
  },
  {
   "cell_type": "code",
   "execution_count": 5,
   "metadata": {},
   "outputs": [
    {
     "name": "stdout",
     "output_type": "stream",
     "text": [
      "Ratio of Same ship b/w train and test set 100.0 %\n"
     ]
    }
   ],
   "source": [
    "test_ids = list(test[\"ID\"].unique())\n",
    "test_ids.sort()\n",
    "\n",
    "train_ids = list(train[\"ID\"].unique())\n",
    "train_ids.sort()\n",
    "\n",
    "\n",
    "duplicated_lst = []\n",
    "\n",
    "for train_id in train_ids:\n",
    "    if train_id in test_ids:\n",
    "        duplicated_lst.append(train_id)\n",
    "        \n",
    "print(\"Ratio of Same ship b/w train and test set\", round(len(duplicated_lst)/len(test_ids), 3)*100, \"%\")"
   ]
  },
  {
   "cell_type": "code",
   "execution_count": 6,
   "metadata": {},
   "outputs": [
    {
     "data": {
      "text/plain": [
       "array([ 0,  1,  2,  5,  6,  7,  8,  9, 10, 11])"
      ]
     },
     "execution_count": 6,
     "metadata": {},
     "output_type": "execute_result"
    }
   ],
   "source": [
    "np.array(duplicated_lst)[:10]"
   ]
  },
  {
   "cell_type": "code",
   "execution_count": 7,
   "metadata": {},
   "outputs": [
    {
     "data": {
      "text/html": [
       "<div>\n",
       "<style scoped>\n",
       "    .dataframe tbody tr th:only-of-type {\n",
       "        vertical-align: middle;\n",
       "    }\n",
       "\n",
       "    .dataframe tbody tr th {\n",
       "        vertical-align: top;\n",
       "    }\n",
       "\n",
       "    .dataframe thead th {\n",
       "        text-align: right;\n",
       "    }\n",
       "</style>\n",
       "<table border=\"1\" class=\"dataframe\">\n",
       "  <thead>\n",
       "    <tr style=\"text-align: right;\">\n",
       "      <th></th>\n",
       "      <th>ARI_CO</th>\n",
       "      <th>ARI_PO</th>\n",
       "      <th>SHIP_TYPE_CATEGORY</th>\n",
       "      <th>DIST</th>\n",
       "      <th>ID</th>\n",
       "      <th>BREADTH</th>\n",
       "      <th>BUILT</th>\n",
       "      <th>DEADWEIGHT</th>\n",
       "      <th>DEPTH</th>\n",
       "      <th>DRAUGHT</th>\n",
       "      <th>...</th>\n",
       "      <th>WTI</th>\n",
       "      <th>BDI_ADJ</th>\n",
       "      <th>PORT_SIZE</th>\n",
       "      <th>CI_HOUR</th>\n",
       "      <th>year</th>\n",
       "      <th>month</th>\n",
       "      <th>day</th>\n",
       "      <th>hour</th>\n",
       "      <th>minute</th>\n",
       "      <th>weekday</th>\n",
       "    </tr>\n",
       "  </thead>\n",
       "  <tbody>\n",
       "    <tr>\n",
       "      <th>20642</th>\n",
       "      <td>10</td>\n",
       "      <td>40</td>\n",
       "      <td>1</td>\n",
       "      <td>19.767162</td>\n",
       "      <td>2</td>\n",
       "      <td>10.0</td>\n",
       "      <td>30</td>\n",
       "      <td>3690</td>\n",
       "      <td>10.0</td>\n",
       "      <td>10.0</td>\n",
       "      <td>...</td>\n",
       "      <td>92.61</td>\n",
       "      <td>1039.970921</td>\n",
       "      <td>0.000206</td>\n",
       "      <td>2.74</td>\n",
       "      <td>2022</td>\n",
       "      <td>11</td>\n",
       "      <td>4</td>\n",
       "      <td>10</td>\n",
       "      <td>10</td>\n",
       "      <td>4</td>\n",
       "    </tr>\n",
       "  </tbody>\n",
       "</table>\n",
       "<p>1 rows × 31 columns</p>\n",
       "</div>"
      ],
      "text/plain": [
       "       ARI_CO  ARI_PO  SHIP_TYPE_CATEGORY       DIST  ID  BREADTH  BUILT  \\\n",
       "20642      10      40                   1  19.767162   2     10.0     30   \n",
       "\n",
       "       DEADWEIGHT  DEPTH  DRAUGHT  ...    WTI      BDI_ADJ  PORT_SIZE  \\\n",
       "20642        3690   10.0     10.0  ...  92.61  1039.970921   0.000206   \n",
       "\n",
       "       CI_HOUR  year  month  day  hour  minute  weekday  \n",
       "20642     2.74  2022     11    4    10      10        4  \n",
       "\n",
       "[1 rows x 31 columns]"
      ]
     },
     "execution_count": 7,
     "metadata": {},
     "output_type": "execute_result"
    }
   ],
   "source": [
    "train[train[\"ID\"]==2].sort_values([\"year\", \"month\", \"day\", \"hour\", \"minute\"]).head(10)"
   ]
  },
  {
   "cell_type": "code",
   "execution_count": 8,
   "metadata": {},
   "outputs": [
    {
     "ename": "KeyError",
     "evalue": "\"None of [Int64Index([ 3,  5,  6,  7,  8,  9, 10, 11, 14, 15, 16, 17, 18, 19, 20, 21, 22,\\n            23, 25, 26, 27, 28, 29, 30],\\n           dtype='int64')] are in the [columns]\"",
     "output_type": "error",
     "traceback": [
      "\u001b[0;31m---------------------------------------------------------------------------\u001b[0m",
      "\u001b[0;31mKeyError\u001b[0m                                  Traceback (most recent call last)",
      "\u001b[1;32m/Users/dalssung/Library/Mobile Documents/com~apple~CloudDocs/공모전/HD_SHIP/code/EDA.ipynb Cell 9\u001b[0m line \u001b[0;36m1\n\u001b[0;32m----> <a href='vscode-notebook-cell:/Users/dalssung/Library/Mobile%20Documents/com~apple~CloudDocs/%EA%B3%B5%EB%AA%A8%EC%A0%84/HD_SHIP/code/EDA.ipynb#X46sZmlsZQ%3D%3D?line=0'>1</a>\u001b[0m train[train[\u001b[39m\"\u001b[39;49m\u001b[39mDIST\u001b[39;49m\u001b[39m\"\u001b[39;49m]\u001b[39m==\u001b[39;49m\u001b[39m0\u001b[39;49m]\u001b[39m.\u001b[39;49mgroupby(LABEL)\u001b[39m.\u001b[39;49mmean()[numeric_features]\n",
      "File \u001b[0;32m/opt/homebrew/Caskroom/miniforge/base/envs/hd_ship/lib/python3.9/site-packages/pandas/core/frame.py:3813\u001b[0m, in \u001b[0;36mDataFrame.__getitem__\u001b[0;34m(self, key)\u001b[0m\n\u001b[1;32m   3811\u001b[0m     \u001b[39mif\u001b[39;00m is_iterator(key):\n\u001b[1;32m   3812\u001b[0m         key \u001b[39m=\u001b[39m \u001b[39mlist\u001b[39m(key)\n\u001b[0;32m-> 3813\u001b[0m     indexer \u001b[39m=\u001b[39m \u001b[39mself\u001b[39;49m\u001b[39m.\u001b[39;49mcolumns\u001b[39m.\u001b[39;49m_get_indexer_strict(key, \u001b[39m\"\u001b[39;49m\u001b[39mcolumns\u001b[39;49m\u001b[39m\"\u001b[39;49m)[\u001b[39m1\u001b[39m]\n\u001b[1;32m   3815\u001b[0m \u001b[39m# take() does not accept boolean indexers\u001b[39;00m\n\u001b[1;32m   3816\u001b[0m \u001b[39mif\u001b[39;00m \u001b[39mgetattr\u001b[39m(indexer, \u001b[39m\"\u001b[39m\u001b[39mdtype\u001b[39m\u001b[39m\"\u001b[39m, \u001b[39mNone\u001b[39;00m) \u001b[39m==\u001b[39m \u001b[39mbool\u001b[39m:\n",
      "File \u001b[0;32m/opt/homebrew/Caskroom/miniforge/base/envs/hd_ship/lib/python3.9/site-packages/pandas/core/indexes/base.py:6070\u001b[0m, in \u001b[0;36mIndex._get_indexer_strict\u001b[0;34m(self, key, axis_name)\u001b[0m\n\u001b[1;32m   6067\u001b[0m \u001b[39melse\u001b[39;00m:\n\u001b[1;32m   6068\u001b[0m     keyarr, indexer, new_indexer \u001b[39m=\u001b[39m \u001b[39mself\u001b[39m\u001b[39m.\u001b[39m_reindex_non_unique(keyarr)\n\u001b[0;32m-> 6070\u001b[0m \u001b[39mself\u001b[39;49m\u001b[39m.\u001b[39;49m_raise_if_missing(keyarr, indexer, axis_name)\n\u001b[1;32m   6072\u001b[0m keyarr \u001b[39m=\u001b[39m \u001b[39mself\u001b[39m\u001b[39m.\u001b[39mtake(indexer)\n\u001b[1;32m   6073\u001b[0m \u001b[39mif\u001b[39;00m \u001b[39misinstance\u001b[39m(key, Index):\n\u001b[1;32m   6074\u001b[0m     \u001b[39m# GH 42790 - Preserve name from an Index\u001b[39;00m\n",
      "File \u001b[0;32m/opt/homebrew/Caskroom/miniforge/base/envs/hd_ship/lib/python3.9/site-packages/pandas/core/indexes/base.py:6130\u001b[0m, in \u001b[0;36mIndex._raise_if_missing\u001b[0;34m(self, key, indexer, axis_name)\u001b[0m\n\u001b[1;32m   6128\u001b[0m     \u001b[39mif\u001b[39;00m use_interval_msg:\n\u001b[1;32m   6129\u001b[0m         key \u001b[39m=\u001b[39m \u001b[39mlist\u001b[39m(key)\n\u001b[0;32m-> 6130\u001b[0m     \u001b[39mraise\u001b[39;00m \u001b[39mKeyError\u001b[39;00m(\u001b[39mf\u001b[39m\u001b[39m\"\u001b[39m\u001b[39mNone of [\u001b[39m\u001b[39m{\u001b[39;00mkey\u001b[39m}\u001b[39;00m\u001b[39m] are in the [\u001b[39m\u001b[39m{\u001b[39;00maxis_name\u001b[39m}\u001b[39;00m\u001b[39m]\u001b[39m\u001b[39m\"\u001b[39m)\n\u001b[1;32m   6132\u001b[0m not_found \u001b[39m=\u001b[39m \u001b[39mlist\u001b[39m(ensure_index(key)[missing_mask\u001b[39m.\u001b[39mnonzero()[\u001b[39m0\u001b[39m]]\u001b[39m.\u001b[39munique())\n\u001b[1;32m   6133\u001b[0m \u001b[39mraise\u001b[39;00m \u001b[39mKeyError\u001b[39;00m(\u001b[39mf\u001b[39m\u001b[39m\"\u001b[39m\u001b[39m{\u001b[39;00mnot_found\u001b[39m}\u001b[39;00m\u001b[39m not in index\u001b[39m\u001b[39m\"\u001b[39m)\n",
      "\u001b[0;31mKeyError\u001b[0m: \"None of [Int64Index([ 3,  5,  6,  7,  8,  9, 10, 11, 14, 15, 16, 17, 18, 19, 20, 21, 22,\\n            23, 25, 26, 27, 28, 29, 30],\\n           dtype='int64')] are in the [columns]\""
     ]
    }
   ],
   "source": [
    "train[train[\"DIST\"]==0].groupby(LABEL).mean()[numeric_features]"
   ]
  },
  {
   "cell_type": "code",
   "execution_count": null,
   "metadata": {},
   "outputs": [],
   "source": [
    "test[test[\"DIST\"]==0]"
   ]
  },
  {
   "cell_type": "code",
   "execution_count": null,
   "metadata": {},
   "outputs": [],
   "source": [
    "test[test[\"ID\"]==2].sort_values([\"year\", \"month\", \"day\", \"hour\", \"minute\"]).head(10)"
   ]
  },
  {
   "cell_type": "code",
   "execution_count": null,
   "metadata": {},
   "outputs": [],
   "source": []
  },
  {
   "cell_type": "code",
   "execution_count": null,
   "metadata": {},
   "outputs": [],
   "source": [
    "# ids = train[\"ID\"].unique()\n",
    "# ids.sort()\n",
    "\n",
    "# total_show = 5\n",
    "\n",
    "# for i, id in enumerate(ids):\n",
    "#     caseOfone = train[train[\"ID\"]==id].sort_values([\"year\", \"month\", \"day\", \"hour\", \"minute\"])\n",
    "    \n",
    "#     if len(caseOfone) != 1:\n",
    "#         print(\"SHIP ID\", id, \"# of data\",len(caseOfone))\n",
    "#         x_correlation(caseOfone, LABEL)\n",
    "#         if i == total_show-1:\n",
    "#             break\n",
    "#     else:\n",
    "#         total_show+=1"
   ]
  },
  {
   "cell_type": "code",
   "execution_count": null,
   "metadata": {},
   "outputs": [],
   "source": [
    "# # for want_col in [\"ARI_CO\", \"ARI_PO\", \"SHIP_TYPE_CATEGORY\", \"BUILT\", \"DEADWEIGHT\", \"DEPTH\", ]:\n",
    "# for want_col in train.columns:\n",
    "#     print(want_col)\n",
    "#     if want_col not in [\"DIST\", \"ATA\", \"ID\", \"SHIPMANAGER\", \"BN\",\"CI_HOUR\"]:\n",
    "#         avgOftime(df=train, col=want_col, LABEL=\"CI_HOUR\", viz=True)"
   ]
  },
  {
   "cell_type": "code",
   "execution_count": null,
   "metadata": {},
   "outputs": [],
   "source": []
  }
 ],
 "metadata": {
  "kernelspec": {
   "display_name": "hd_ship",
   "language": "python",
   "name": "python3"
  },
  "language_info": {
   "codemirror_mode": {
    "name": "ipython",
    "version": 3
   },
   "file_extension": ".py",
   "mimetype": "text/x-python",
   "name": "python",
   "nbconvert_exporter": "python",
   "pygments_lexer": "ipython3",
   "version": "3.9.18"
  }
 },
 "nbformat": 4,
 "nbformat_minor": 2
}
