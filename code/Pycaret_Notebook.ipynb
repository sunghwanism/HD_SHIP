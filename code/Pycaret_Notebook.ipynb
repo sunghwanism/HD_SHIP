{
 "cells": [
  {
   "cell_type": "code",
   "execution_count": null,
   "metadata": {},
   "outputs": [],
   "source": [
    "import os\n",
    "\n",
    "import matplotlib.pyplot as plt\n",
    "import pandas as pd\n",
    "import numpy as np\n",
    "import lightgbm as lgb\n",
    "import bisect\n",
    "from tqdm import tqdm\n",
    "from sklearn.metrics import mean_absolute_error\n",
    "from sklearn.preprocessing import LabelEncoder\n",
    "from sklearn.model_selection import StratifiedKFold\n",
    "\n",
    "# import pycaret\n",
    "from pycaret.regression import RegressionExperiment, setup, plot_model, compare_models\n",
    "\n",
    "from utils import preprocessing, seed_everything"
   ]
  },
  {
   "cell_type": "code",
   "execution_count": null,
   "metadata": {},
   "outputs": [],
   "source": [
    "RANDOM_SEED = 42\n",
    "seed_everything(seed=RANDOM_SEED)"
   ]
  },
  {
   "cell_type": "code",
   "execution_count": null,
   "metadata": {},
   "outputs": [],
   "source": [
    "BASE = \"../\"\n",
    "DATAPATH = os.path.join(BASE, \"data\")\n",
    "RESULTPATH = os.path.join(DATAPATH,\"Submission\")\n",
    "origin_train = pd.read_csv(DATAPATH+'/train.csv').drop(columns=['SAMPLE_ID'])\n",
    "origin_test = pd.read_csv(DATAPATH+'/test.csv').drop(columns=['SAMPLE_ID'])\n",
    "\n",
    "LABEL = \"CI_HOUR\""
   ]
  },
  {
   "cell_type": "code",
   "execution_count": null,
   "metadata": {},
   "outputs": [],
   "source": [
    "train, test, category_lst = preprocessing(origin_train, origin_test)\n",
    "# S_kfold = StratifiedKFold(n_splits=5, shuffle=True, random_state=RANDOM_SEED)\n",
    "\n",
    "train_x, train_y = train.drop(LABEL, axis=1), train.CI_HOUR"
   ]
  },
  {
   "cell_type": "code",
   "execution_count": null,
   "metadata": {},
   "outputs": [],
   "source": [
    "train.columns"
   ]
  },
  {
   "cell_type": "code",
   "execution_count": null,
   "metadata": {},
   "outputs": [],
   "source": [
    "category_lst"
   ]
  },
  {
   "cell_type": "code",
   "execution_count": null,
   "metadata": {},
   "outputs": [],
   "source": [
    "s = setup(train, target = LABEL, session_id = RANDOM_SEED,\n",
    "          categorical_features=category_lst,\n",
    "          ignore_features=['year', 'month', 'minute', 'minute'],\n",
    "          use_gpu=False)\n",
    "\n",
    "exp = RegressionExperiment(feature_selection=True, fold=5)\n",
    "\n",
    "exp.setup(train, target = LABEL, session_id = RANDOM_SEED,\n",
    "          categorical_features=category_lst,\n",
    "          ignore_features=['year', 'month', 'minute', 'minute'],\n",
    "          use_gpu=False,\n",
    "          )"
   ]
  },
  {
   "cell_type": "code",
   "execution_count": 16,
   "metadata": {},
   "outputs": [],
   "source": [
    "best = compare_models()"
   ]
  },
  {
   "cell_type": "code",
   "execution_count": null,
   "metadata": {},
   "outputs": [],
   "source": [
    "plot_model(best, plot = 'feature')"
   ]
  }
 ],
 "metadata": {
  "kernelspec": {
   "display_name": "CJ_TES-nXhuuFOf",
   "language": "python",
   "name": "python3"
  },
  "language_info": {
   "codemirror_mode": {
    "name": "ipython",
    "version": 3
   },
   "file_extension": ".py",
   "mimetype": "text/x-python",
   "name": "python",
   "nbconvert_exporter": "python",
   "pygments_lexer": "ipython3",
   "version": "3.9.18"
  }
 },
 "nbformat": 4,
 "nbformat_minor": 2
}
