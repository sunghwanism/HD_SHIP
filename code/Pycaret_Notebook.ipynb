{
 "cells": [
  {
   "cell_type": "code",
   "execution_count": null,
   "metadata": {},
   "outputs": [],
   "source": [
    "import os\n",
    "\n",
    "import matplotlib.pyplot as plt\n",
    "import pandas as pd\n",
    "import numpy as np\n",
    "import lightgbm as lgb\n",
    "import bisect\n",
    "from tqdm import tqdm\n",
    "from sklearn.metrics import mean_absolute_error\n",
    "from sklearn.preprocessing import LabelEncoder\n",
    "from sklearn.model_selection import StratifiedKFold\n",
    "\n",
    "# import pycaret\n",
    "from pycaret.regression import RegressionExperiment, setup, plot_model, compare_models\n",
    "\n",
    "from utils import preprocessing, seed_everything"
   ]
  },
  {
   "cell_type": "code",
   "execution_count": null,
   "metadata": {},
   "outputs": [],
   "source": [
    "RANDOM_SEED = 42\n",
    "seed_everything(seed=RANDOM_SEED)"
   ]
  },
  {
   "cell_type": "code",
   "execution_count": null,
   "metadata": {},
   "outputs": [],
   "source": [
    "BASE = \"../\"\n",
    "DATAPATH = os.path.join(BASE, \"data\")\n",
    "RESULTPATH = os.path.join(DATAPATH,\"Submission\")\n",
    "\n",
    "train = pd.read_csv(DATAPATH+'/train_time_bn_temp.csv')\n",
    "test = pd.read_csv(DATAPATH+'/test_time_bn_temp.csv')\n",
    "\n",
    "LABEL = \"CI_HOUR\"\n",
    "\n",
    "categorical_features = ['ARI_CO', 'ARI_PO', 'SHIP_TYPE_CATEGORY', 'ID', 'SHIPMANAGER', 'FLAG', 'day_catg', \n",
    "                        'weekend', 'covid',]\n",
    "numeric_features = [\"DIST\", \"BREADTH\",  \"DEADWEIGHT\", \"DEPTH\", \"U_WIND\", \"V_WIND\", \"BN\",\"GT\", \"LENGTH\", \"BUILT\",\n",
    "                    \"PORT_SIZE\", 'year', 'month', 'day', 'hour',] #"
   ]
  },
  {
   "cell_type": "code",
   "execution_count": null,
   "metadata": {},
   "outputs": [],
   "source": [
    "train_x, train_y = train.drop(LABEL, axis=1), train.CI_HOUR"
   ]
  },
  {
   "cell_type": "code",
   "execution_count": null,
   "metadata": {},
   "outputs": [],
   "source": [
    "s = setup(train, target = LABEL, session_id = RANDOM_SEED,\n",
    "          categorical_features = categorical_features,\n",
    "          # numeric_features = numeric_features,\n",
    "        #   normalize = True,\n",
    "        #   normalize_method = 'robust',\n",
    "          ignore_features=['SAMPLE_ID'],\n",
    "          use_gpu=True,\n",
    "          fold=5,)"
   ]
  },
  {
   "cell_type": "code",
   "execution_count": null,
   "metadata": {},
   "outputs": [],
   "source": [
    "exp = RegressionExperiment()\n",
    "\n",
    "exp.setup(train, target = LABEL, session_id = RANDOM_SEED,\n",
    "          categorical_features = categorical_features,\n",
    "          # numeric_features = numeric_features,\n",
    "        #   normalize = True,\n",
    "        #   normalize_method = 'robust',\n",
    "          ignore_features=['SAMPLE_ID'],\n",
    "          use_gpu=True,\n",
    "          fold=5,)"
   ]
  },
  {
   "cell_type": "code",
   "execution_count": null,
   "metadata": {},
   "outputs": [],
   "source": [
    "best = compare_models(sort=\"MAE\", n_select=5)"
   ]
  },
  {
   "cell_type": "code",
   "execution_count": null,
   "metadata": {},
   "outputs": [],
   "source": [
    "plot_model(best[0], plot = 'feature')"
   ]
  },
  {
   "cell_type": "code",
   "execution_count": null,
   "metadata": {},
   "outputs": [],
   "source": [
    "plot_model(best[1], plot = 'feature')"
   ]
  },
  {
   "cell_type": "code",
   "execution_count": null,
   "metadata": {},
   "outputs": [],
   "source": [
    "plot_model(best[2], plot = 'feature')"
   ]
  },
  {
   "cell_type": "code",
   "execution_count": null,
   "metadata": {},
   "outputs": [],
   "source": [
    "plot_model(best[3], plot = 'feature')"
   ]
  },
  {
   "cell_type": "code",
   "execution_count": null,
   "metadata": {},
   "outputs": [],
   "source": [
    "plot_model(best[4], plot = 'feature')"
   ]
  },
  {
   "cell_type": "code",
   "execution_count": null,
   "metadata": {},
   "outputs": [],
   "source": []
  }
 ],
 "metadata": {
  "kernelspec": {
   "display_name": "CJ_TES-nXhuuFOf",
   "language": "python",
   "name": "python3"
  },
  "language_info": {
   "codemirror_mode": {
    "name": "ipython",
    "version": 3
   },
   "file_extension": ".py",
   "mimetype": "text/x-python",
   "name": "python",
   "nbconvert_exporter": "python",
   "pygments_lexer": "ipython3",
   "version": "3.9.18"
  }
 },
 "nbformat": 4,
 "nbformat_minor": 2
}
