{
 "cells": [
  {
   "cell_type": "code",
   "execution_count": null,
   "metadata": {},
   "outputs": [],
   "source": [
    "import os\n",
    "\n",
    "import matplotlib.pyplot as plt\n",
    "import pandas as pd\n",
    "import numpy as np\n",
    "\n",
    "from tqdm import tqdm\n",
    "\n",
    "from preprocess import *"
   ]
  },
  {
   "cell_type": "code",
   "execution_count": null,
   "metadata": {},
   "outputs": [],
   "source": [
    "BASE = \"../\"\n",
    "DATAPATH = os.path.join(BASE, \"data\")\n",
    "RESULTPATH = os.path.join(DATAPATH,\"Submission\")\n",
    "origin_train = pd.read_csv(DATAPATH+'/train.csv').drop(columns=['SAMPLE_ID'])\n",
    "origin_test = pd.read_csv(DATAPATH+'/test.csv').drop(columns=['SAMPLE_ID'])\n",
    "\n",
    "LABEL = \"CI_HOUR\"\n",
    "categorical_features = ['ARI_CO', 'ARI_PO', 'SHIP_TYPE_CATEGORY', 'ID', 'SHIPMANAGER', 'FLAG']"
   ]
  },
  {
   "cell_type": "code",
   "execution_count": null,
   "metadata": {},
   "outputs": [],
   "source": [
    "train, test = preprocessing(origin_train, origin_test, day_split=False, weekday_split=False, covid_year=False,\n",
    "                            BN_cleaning=False)"
   ]
  },
  {
   "cell_type": "code",
   "execution_count": null,
   "metadata": {},
   "outputs": [],
   "source": [
    "train.info()"
   ]
  },
  {
   "cell_type": "code",
   "execution_count": null,
   "metadata": {},
   "outputs": [],
   "source": [
    "bn_null_df = train[train[\"BN\"].isna()][[\"ARI_CO\", \"ARI_PO\", \"BN\", \"month\"]]\n",
    "bn_null_idx = bn_null_df.index\n",
    "bn_null_df"
   ]
  },
  {
   "cell_type": "code",
   "execution_count": null,
   "metadata": {},
   "outputs": [],
   "source": [
    "bn_null_df = train[train[\"BN\"].isna()][[\"ARI_CO\", \"ARI_PO\", \"BN\", \"month\"]]\n",
    "bn_null_idx = bn_null_df.index\n",
    "\n",
    "for i in tqdm(bn_null_idx):\n",
    "    # print(\"Index\", i)\n",
    "    CO, PO, _, month = bn_null_df.iloc[i]\n",
    "    \n",
    "    same_df_1 = train.loc[(train[\"ARI_CO\"]==CO)&(train[\"ARI_PO\"]==PO)&(train[\"month\"]==month)&(train[\"BN\"].notna())]\n",
    "    same_df_2 = test.loc[(test[\"ARI_CO\"]==CO)&(test[\"ARI_PO\"]==PO)&(test[\"month\"]==month)&(test[\"BN\"].notna())]"
   ]
  },
  {
   "cell_type": "code",
   "execution_count": null,
   "metadata": {},
   "outputs": [],
   "source": [
    "(len(same_df)+len(same_df_2))"
   ]
  },
  {
   "cell_type": "code",
   "execution_count": null,
   "metadata": {},
   "outputs": [],
   "source": [
    "train.iloc[i, np.where(train.columns == \"BN\")[0]]"
   ]
  },
  {
   "cell_type": "code",
   "execution_count": null,
   "metadata": {},
   "outputs": [],
   "source": [
    "train.iloc[i,np.where(train.columns == \"BN\")[0]] = 2.2"
   ]
  },
  {
   "cell_type": "code",
   "execution_count": null,
   "metadata": {},
   "outputs": [],
   "source": [
    "train.mea"
   ]
  },
  {
   "cell_type": "code",
   "execution_count": null,
   "metadata": {},
   "outputs": [],
   "source": [
    "if len(same_df) == 0:\n",
    "    interpolate = np.nan()\n",
    "    \n",
    "elif len(same_df) == 1:\n",
    "    interpolate = same_df[\"BN\"]\n",
    "    \n",
    "else:\n",
    "    interpolate = same_df[\"BN\"].mean()\n",
    "    \n",
    "df.iloc[i,:][\"BN\"] = interpolate"
   ]
  },
  {
   "cell_type": "code",
   "execution_count": null,
   "metadata": {},
   "outputs": [],
   "source": []
  },
  {
   "cell_type": "code",
   "execution_count": null,
   "metadata": {},
   "outputs": [],
   "source": [
    "same_df.groupby([\"year\", \"month\"]).mean()[\"BN\"]"
   ]
  },
  {
   "cell_type": "code",
   "execution_count": null,
   "metadata": {},
   "outputs": [],
   "source": []
  }
 ],
 "metadata": {
  "kernelspec": {
   "display_name": "hd_ship",
   "language": "python",
   "name": "python3"
  },
  "language_info": {
   "codemirror_mode": {
    "name": "ipython",
    "version": 3
   },
   "file_extension": ".py",
   "mimetype": "text/x-python",
   "name": "python",
   "nbconvert_exporter": "python",
   "pygments_lexer": "ipython3",
   "version": "3.9.18"
  }
 },
 "nbformat": 4,
 "nbformat_minor": 2
}
